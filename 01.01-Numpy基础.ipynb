{
 "cells": [
  {
   "cell_type": "markdown",
   "id": "0023a472",
   "metadata": {},
   "source": [
    "# 导入Numpy"
   ]
  },
  {
   "cell_type": "code",
   "execution_count": 1,
   "id": "7c9a27c9",
   "metadata": {},
   "outputs": [
    {
     "data": {
      "text/plain": [
       "'1.24.3'"
      ]
     },
     "execution_count": 1,
     "metadata": {},
     "output_type": "execute_result"
    }
   ],
   "source": [
    "import numpy as np\n",
    "np.__version__"
   ]
  },
  {
   "cell_type": "markdown",
   "id": "d057429c",
   "metadata": {},
   "source": [
    "# 比较Numpy与原生Python代码的性能\n",
    "数组x有10个元素：1-10  \n",
    "计算数组x的各个元素的平方和"
   ]
  },
  {
   "cell_type": "code",
   "execution_count": 2,
   "id": "a4b40733",
   "metadata": {},
   "outputs": [],
   "source": [
    "n = 10"
   ]
  },
  {
   "cell_type": "markdown",
   "id": "9b4f1d85",
   "metadata": {},
   "source": [
    "### 原生语法"
   ]
  },
  {
   "cell_type": "code",
   "execution_count": 20,
   "id": "d5919c75",
   "metadata": {},
   "outputs": [
    {
     "name": "stdout",
     "output_type": "stream",
     "text": [
      "970 ns ± 31.8 ns per loop (mean ± std. dev. of 7 runs, 1,000,000 loops each)\n"
     ]
    }
   ],
   "source": [
    "%%timeit\n",
    "x = [i for i in range(n+1)]\n",
    "sumX = 0\n",
    "for num in x: \n",
    "    sumX += num*num\n",
    "sumX"
   ]
  },
  {
   "cell_type": "markdown",
   "id": "58dbe7f3",
   "metadata": {},
   "source": [
    "### Numpy实现"
   ]
  },
  {
   "cell_type": "code",
   "execution_count": 19,
   "id": "b1f622b6",
   "metadata": {},
   "outputs": [
    {
     "name": "stdout",
     "output_type": "stream",
     "text": [
      "5.03 µs ± 109 ns per loop (mean ± std. dev. of 7 runs, 100,000 loops each)\n"
     ]
    }
   ],
   "source": [
    "%%timeit\n",
    "x = np.arange(n+1)\n",
    "np.sum(x**2)"
   ]
  }
 ],
 "metadata": {
  "kernelspec": {
   "display_name": "Python 3 (ipykernel)",
   "language": "python",
   "name": "python3"
  },
  "language_info": {
   "codemirror_mode": {
    "name": "ipython",
    "version": 3
   },
   "file_extension": ".py",
   "mimetype": "text/x-python",
   "name": "python",
   "nbconvert_exporter": "python",
   "pygments_lexer": "ipython3",
   "version": "3.10.9"
  }
 },
 "nbformat": 4,
 "nbformat_minor": 5
}
